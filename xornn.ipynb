{
 "cells": [
  {
   "cell_type": "code",
   "execution_count": 1,
   "metadata": {
    "collapsed": true,
    "pycharm": {
     "name": "#%% tensor operations\n"
    }
   },
   "outputs": [],
   "source": [
    "import numpy as np\n",
    "import math as m\n",
    "import matplotlib.pyplot as plt\n",
    "\n",
    "def sig(X):\n",
    "    return 1 / (1 + np.exp(-X))\n",
    "\n",
    "def delta_sig(X):\n",
    "    return sig(X) * (1 - sig(X))"
   ]
  },
  {
   "cell_type": "code",
   "execution_count": 2,
   "outputs": [],
   "source": [
    "data = np.array([\n",
    "    [1, 1, 0],\n",
    "    [0, 1, 1],\n",
    "    [1, 0, 1],\n",
    "    [0, 0, 0]\n",
    "])\n",
    "data = np.array(data)"
   ],
   "metadata": {
    "collapsed": false,
    "pycharm": {
     "name": "#%% dataset\n"
    }
   }
  },
  {
   "cell_type": "code",
   "execution_count": 3,
   "outputs": [
    {
     "name": "stdout",
     "output_type": "stream",
     "text": [
      "2.78022425840632\n",
      "2.764308589665748\n",
      "2.6848803821092293\n",
      "1.863887144550123\n",
      "0.6108133036774381\n",
      "0.2901216539308993\n",
      "0.1820729226404032\n",
      "0.13080888281736755\n",
      "0.10143900289483537\n",
      "0.08256856453547765\n",
      "0.06948252586487702\n",
      "0.059901914128300496\n",
      "0.05259815295474282\n",
      "0.0468531900586938\n",
      "0.042220423997811916\n",
      "0.03840803649001308\n",
      "0.03521754721733884\n",
      "0.03250939971956045\n",
      "0.03018268476039848\n",
      "0.02816267474356593\n",
      "0.02639287798553302\n",
      "0.02482981377330043\n",
      "0.023439482128242255\n",
      "0.022194921113282647\n",
      "0.021074480629573143\n",
      "0.020060579387740647\n",
      "0.01913879458009985\n",
      "0.01829718497808574\n",
      "0.017525780602727213\n",
      "0.01681619310753136\n",
      "0.016161314877926675\n",
      "0.01555508417755876\n",
      "0.014992300050515757\n",
      "0.014468475118879182\n",
      "0.013979717535863814\n",
      "0.013522635582181027\n",
      "0.013094260002379976\n",
      "0.012691980353575872\n",
      "0.012313492507043404\n",
      "0.011956755090443758\n",
      "0.011619953145588884\n",
      "0.011301467646459038\n",
      "0.010999849805204381\n",
      "0.010713799312154413\n",
      "0.010442145825430101\n",
      "0.010183833158396133\n",
      "0.009937905717624713\n",
      "0.009703496826760846\n",
      "0.009479818637611107\n",
      "0.009266153382576053\n",
      "0.009061845765112021\n",
      "0.008866296319339356\n",
      "0.008678955597936891\n",
      "0.008499319070373672\n",
      "0.008326922632313985\n",
      "0.008161338642533815\n",
      "0.00800217241652101\n",
      "0.007849059116570054\n",
      "0.007701660987091857\n",
      "0.00755966489127924\n",
      "0.0074227801115303626\n",
      "0.00729073638128569\n",
      "0.007163282120393431\n",
      "0.0070401828498845\n",
      "0.006921219765253691\n",
      "0.00680618845006926\n",
      "0.006694897714093086\n",
      "0.006587168542074428\n",
      "0.006482833141132082\n",
      "0.0063817340761039894\n",
      "0.006283723483545728\n",
      "0.006188662356159386\n",
      "0.006096419890405337\n",
      "0.006006872890889125\n",
      "0.005919905225843946\n",
      "0.005835407328672715\n",
      "0.00575327574107249\n",
      "0.005673412693747888\n",
      "0.005595725721163504\n",
      "0.005520127307151139\n",
      "0.005446534558534362\n",
      "0.00537486890421608\n",
      "0.005305055817448889\n",
      "0.005237024559227716\n",
      "0.0051707079409573\n",
      "0.0051060421047288305\n",
      "0.00504296631969868\n",
      "0.004981422793212852\n",
      "0.0049213564954429774\n",
      "0.004862714996425496\n",
      "0.004805448314490213\n",
      "0.004749508775159278\n",
      "0.004694850879687094\n",
      "0.004641431182480102\n",
      "0.004589208176701714\n",
      "0.0045381421874386325\n",
      "0.004488195271844588\n",
      "0.004439331125743991\n",
      "0.004391514996207386\n",
      "0.004344713599659284\n"
     ]
    }
   ],
   "source": [
    "w0 = np.random.randn(2, 3)\n",
    "w1 = np.random.randn(1, 3)\n",
    "lr = 0.09 #learning rate\n",
    "m = len(data)\n",
    "J = []\n",
    "\n",
    "epochs = 100000\n",
    "\n",
    "y = data[:, 2]\n",
    "X = data[:, :2]\n",
    "\n",
    "a0 = np.hstack((np.ones((m * 1, 1)), X))\n",
    "a0 = a0.T\n",
    "\n",
    "for epoch in range(epochs):\n",
    "\n",
    "    z1 = np.matmul(w0, a0)\n",
    "    a1 = sig(z1)\n",
    "    a1 = np.vstack((np.ones(m * 1), a1))\n",
    "\n",
    "    z2 = np.matmul(w1, a1)\n",
    "    a2 = sig(z2)\n",
    "\n",
    "    delta2 = a2 - y.T\n",
    "\n",
    "    delta1 = np.matmul(w1.transpose(), delta2) * np.vstack((np.ones(m * 1), delta_sig(z1)))\n",
    "    delta1 = delta1[1:, :]\n",
    "\n",
    "    Delta1 = np.matmul(delta2, a1.T)\n",
    "    Delta0 = np.matmul(delta1, a0.T)\n",
    "\n",
    "    w0 -= lr * (1 / m) * Delta0\n",
    "    w1 -= lr * (1 / m) * Delta1\n",
    "\n",
    "    J.append(np.sum(-y * np.log(a2) - (1 - y) * np.log(1 - a2)))\n",
    "    if epoch % 1000 == 0: print(J[epoch])"
   ],
   "metadata": {
    "collapsed": false,
    "pycharm": {
     "name": "#%%\n"
    }
   }
  },
  {
   "cell_type": "code",
   "execution_count": 4,
   "outputs": [
    {
     "data": {
      "text/plain": "<Figure size 432x288 with 1 Axes>",
      "image/png": "[encoded data removed]"
     },
     "metadata": {
      "needs_background": "light"
     },
     "output_type": "display_data"
    },
    {
     "name": "stdout",
     "output_type": "stream",
     "text": [
      "Jmin:0.004298940383022885 in epoch99999\n"
     ]
    }
   ],
   "source": [
    "plt.plot(range(epochs), J)\n",
    "plt.show()\n",
    "print(f\"Jmin:{np.min(J)} in epoch{J.index(np.min(J))}\",)"
   ],
   "metadata": {
    "collapsed": false,
    "pycharm": {
     "name": "#%%\n"
    }
   }
  },
  {
   "cell_type": "code",
   "execution_count": 5,
   "outputs": [
    {
     "name": "stdout",
     "output_type": "stream",
     "text": [
      "cost on epoch n.0: [[3.42696123]]\n",
      "cost on epoch n.1000: [[2.45906524]]\n",
      "cost on epoch n.2000: [[2.12050907]]\n",
      "cost on epoch n.3000: [[1.70191954]]\n",
      "cost on epoch n.4000: [[0.73055244]]\n",
      "cost on epoch n.5000: [[0.33005384]]\n",
      "cost on epoch n.6000: [[0.20009382]]\n",
      "cost on epoch n.7000: [[0.1411083]]\n",
      "cost on epoch n.8000: [[0.10819936]]\n",
      "cost on epoch n.9000: [[0.08740816]]\n"
     ]
    }
   ],
   "source": [
    "lr = 0.09 #learning rate\n",
    "m = len(data)\n",
    "epochs = 10000\n",
    "\n",
    "epsilon1 = np.sqrt(6) / (np.sqrt(2) + np.sqrt(3))\n",
    "epsilon2 = np.sqrt(6) / (np.sqrt(1) + np.sqrt(3))\n",
    "\n",
    "w0 = np.random.randn(2, 3)\n",
    "w1 = np.random.randn(1, 3)\n",
    "\n",
    "for i in range(epochs):\n",
    "    np.random.shuffle(data)\n",
    "    J = 0\n",
    "    Delta0 = Delta1 = 0\n",
    "    for example in data:\n",
    "        y = example[2]\n",
    "        a0 = np.array([[example[0]], [example[1]]])\n",
    "        a0 = np.vstack((1, a0))\n",
    "\n",
    "        z1 = np.matmul(w0, a0)\n",
    "        a1 = sig(z1)\n",
    "        a1 = np.vstack((1, a1))\n",
    "\n",
    "        z2 = np.matmul(w1, a1)\n",
    "        a2 = sig(z2)\n",
    "\n",
    "        delta2 = a2 - y\n",
    "\n",
    "        delta1 = np.matmul(w1.transpose(), delta2) * np.vstack((1, delta_sig(z1)))\n",
    "        delta1 = delta1[1:]\n",
    "\n",
    "        Delta1 += np.matmul(delta2, a1.transpose())\n",
    "        Delta0 += np.matmul(delta1, a0.transpose())\n",
    "\n",
    "        J += (-y * np.log(a2) - (1 - y) * np.log(1 - a2))\n",
    "        #forward pass\n",
    "        #y =\n",
    "\n",
    "\n",
    "\n",
    "    w0 -= lr * (1 / m) * Delta0\n",
    "    w1 -= lr * (1 / m) * Delta1\n",
    "\n",
    "    if i % 1000 == 0:\n",
    "        print(f\"cost on epoch n.{i}:\", J)"
   ],
   "metadata": {
    "collapsed": false,
    "pycharm": {
     "name": "#%%\n"
    }
   }
  },
  {
   "cell_type": "code",
   "execution_count": 6,
   "outputs": [],
   "source": [
    "def predict(x1, x2):\n",
    "    a0 = np.array([[1], [x1], [x2]])\n",
    "\n",
    "    z1 = np.matmul(w0, a0)\n",
    "    a1 = sig(z1)\n",
    "    a1 = np.vstack((1, a1))\n",
    "    z2 = np.matmul(w1, a1)\n",
    "    a2 = sig(z2)\n",
    "\n",
    "    return a2, np.round(a2)"
   ],
   "metadata": {
    "collapsed": false,
    "pycharm": {
     "name": "#%%\n"
    }
   }
  },
  {
   "cell_type": "code",
   "execution_count": 7,
   "outputs": [
    {
     "name": "stdout",
     "output_type": "stream",
     "text": [
      "[[0.01424245]] [[0.]]\n"
     ]
    }
   ],
   "source": [
    "prob, x = predict(0, 0)\n",
    "print(prob, x)"
   ],
   "metadata": {
    "collapsed": false,
    "pycharm": {
     "name": "#%%\n"
    }
   }
  },
  {
   "cell_type": "code",
   "execution_count": 8,
   "outputs": [
    {
     "name": "stdout",
     "output_type": "stream",
     "text": [
      "accuracy:  1.0\n"
     ]
    }
   ],
   "source": [
    "avg_acc = 0\n",
    "\n",
    "for i in range(100):\n",
    "    for j in range(4):\n",
    "        p, ans = predict(data[j][0], data[j][1])\n",
    "        if ans == data[j][2]: avg_acc += 1\n",
    "\n",
    "avg_acc /= 400\n",
    "print(\"accuracy: \", avg_acc)\n",
    "#%"
   ],
   "metadata": {
    "collapsed": false,
    "pycharm": {
     "name": "#%%\n"
    }
   }
  }
 ],
 "metadata": {
  "kernelspec": {
   "display_name": "Python 3",
   "language": "python",
   "name": "python3"
  },
  "language_info": {
   "codemirror_mode": {
    "name": "ipython",
    "version": 2
   },
   "file_extension": ".py",
   "mimetype": "text/x-python",
   "name": "python",
   "nbconvert_exporter": "python",
   "pygments_lexer": "ipython2",
   "version": "2.7.6"
  }
 },
 "nbformat": 4,
 "nbformat_minor": 0
}