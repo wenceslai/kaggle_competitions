{
 "cells": [
  {
   "cell_type": "code",
   "execution_count": 1,
   "metadata": {},
   "outputs": [
    {
     "output_type": "execute_result",
     "data": {
      "text/plain": "sys.version_info(major=3, minor=7, micro=6, releaselevel='final', serial=0)"
     },
     "metadata": {},
     "execution_count": 1
    }
   ],
   "source": [
    "import numpy as np\n",
    "import pandas as pd\n",
    "pd.set_option('display.max_rows', 500)\n",
    "pd.set_option('display.max_columns', 100)\n",
    "\n",
    "from itertools import product\n",
    "from sklearn.preprocessing import LabelEncoder\n",
    "\n",
    "import seaborn as sns\n",
    "import matplotlib.pyplot as plt\n",
    "\n",
    "from xgboost import XGBRegressor\n",
    "from xgboost import plot_importance\n",
    "\n",
    "def plot_features(booster, figsize):    \n",
    "    fig, ax = plt.subplots(1,1,figsize=figsize)\n",
    "    return plot_importance(booster=booster, ax=ax)"
   ]
  },
  {
   "cell_type": "code",
   "execution_count": 2,
   "metadata": {},
   "outputs": [],
   "source": [
    "def downcast_dtypes(df):\n",
    "    # Select columns to downcast\n",
    "    float_cols = [c for c in df if df[c].dtype == \"float64\"]\n",
    "    int_cols =   [c for c in df if df[c].dtype == \"int64\"]\n",
    "    \n",
    "    # Downcast\n",
    "    df[float_cols] = df[float_cols].astype(np.float32)\n",
    "    df[int_cols]   = df[int_cols].astype(np.int32)\n",
    "    \n",
    "    return df"
   ]
  },
  {
   "cell_type": "code",
   "execution_count": 19,
   "metadata": {},
   "outputs": [],
   "source": [
    "import os\n",
    "data_folder = \"/home/wenceslai/Documents/predict_sales_kaggle\"\n",
    "\n",
    "train = pd.read_csv(os.path.join(data_folder, 'sales_train.csv'))\n",
    "cats = pd.read_csv(os.path.join(data_folder, 'items.csv'))\n",
    "df_sub = pd.read_csv(os.path.join(data_folder, 'sample_submission.csv'))\n",
    "test = pd.read_csv(os.path.join(data_folder, 'test.csv'))"
   ]
  },
  {
   "cell_type": "code",
   "execution_count": 20,
   "metadata": {
    "tags": []
   },
   "outputs": [],
   "source": [
    "matrix = []\n",
    "cols = ['date_block_num','shop_id','item_id']\n",
    "\n",
    "for i in range(34):\n",
    "    sales = train[train.date_block_num==i]\n",
    "    matrix.append(np.array(list(product([i], sales.shop_id.unique(), sales.item_id.unique())), dtype='int16'))\n",
    "\n",
    "matrix = pd.DataFrame(np.vstack(matrix), columns=cols)\n",
    "matrix['date_block_num'] = matrix['date_block_num'].astype(np.int8)\n",
    "#matrix['shop_id'] = matrix['shop_id'].astype(np.int8)\n",
    "#matrix['item_id'] = matrix['item_id'].astype(np.int16)\n",
    "#matrix.sort_values(cols,inplace=True)"
   ]
  },
  {
   "cell_type": "code",
   "execution_count": 21,
   "metadata": {},
   "outputs": [],
   "source": [
    "#test vals\n",
    "test['date_block_num'] = 34\n",
    "test = test.drop('ID', axis=1)\n",
    "test = test[['date_block_num', 'shop_id', 'item_id']]"
   ]
  },
  {
   "cell_type": "code",
   "execution_count": 22,
   "metadata": {},
   "outputs": [],
   "source": [
    "group = train.groupby(['date_block_num','shop_id','item_id']).agg({'item_cnt_day': ['sum']})\n",
    "group.columns = ['item_cnt_month']\n",
    "group.reset_index(inplace=True)\n",
    "\n",
    "matrix = pd.merge(matrix, group, on=cols, how='left')\n",
    "matrix['item_cnt_month'] = (matrix['item_cnt_month']\n",
    "                                .fillna(0)\n",
    "                                .clip(0,20)\n",
    "                                .astype(np.float16))"
   ]
  },
  {
   "cell_type": "code",
   "execution_count": 23,
   "metadata": {},
   "outputs": [],
   "source": [
    "def lag_features(df, lags, col):\n",
    "    subset = df[['date_block_num', 'shop_id', 'item_id', col]]\n",
    "    for lag in lags:\n",
    "        shifted = subset.copy()\n",
    "        shifted.cols = [['date_block_num', 'shop_id', 'item_id', col+\"_lag_\"+str(lag)]]\n",
    "        shifted.rename(columns={col : col+\"_lag_\"+str(lag)}, inplace=True)\n",
    "        shifted['date_block_num'] += lag\n",
    "        df = df.merge(shifted, on=['date_block_num', 'shop_id', 'item_id'], how='left').fillna(0)\n",
    "    del shifted\n",
    "    \n",
    "    return df"
   ]
  },
  {
   "cell_type": "code",
   "execution_count": 24,
   "metadata": {},
   "outputs": [
    {
     "output_type": "execute_result",
     "data": {
      "text/plain": "   date_block_num  shop_id  item_id  item_cnt_month  item_cnt_month_lag_1  \\\n0               0       59    22154             1.0                   0.0   \n1               0       59     2552             0.0                   0.0   \n2               0       59     2554             0.0                   0.0   \n3               0       59     2555             0.0                   0.0   \n4               0       59     2564             0.0                   0.0   \n\n   item_cnt_month_lag_2  item_cnt_month_lag_3  item_cnt_month_lag_4  \\\n0                   0.0                   0.0                   0.0   \n1                   0.0                   0.0                   0.0   \n2                   0.0                   0.0                   0.0   \n3                   0.0                   0.0                   0.0   \n4                   0.0                   0.0                   0.0   \n\n   item_cnt_month_lag_5  item_cnt_month_lag_12  \n0                   0.0                    0.0  \n1                   0.0                    0.0  \n2                   0.0                    0.0  \n3                   0.0                    0.0  \n4                   0.0                    0.0  ",
      "text/html": "<div>\n<style scoped>\n    .dataframe tbody tr th:only-of-type {\n        vertical-align: middle;\n    }\n\n    .dataframe tbody tr th {\n        vertical-align: top;\n    }\n\n    .dataframe thead th {\n        text-align: right;\n    }\n</style>\n<table border=\"1\" class=\"dataframe\">\n  <thead>\n    <tr style=\"text-align: right;\">\n      <th></th>\n      <th>date_block_num</th>\n      <th>shop_id</th>\n      <th>item_id</th>\n      <th>item_cnt_month</th>\n      <th>item_cnt_month_lag_1</th>\n      <th>item_cnt_month_lag_2</th>\n      <th>item_cnt_month_lag_3</th>\n      <th>item_cnt_month_lag_4</th>\n      <th>item_cnt_month_lag_5</th>\n      <th>item_cnt_month_lag_12</th>\n    </tr>\n  </thead>\n  <tbody>\n    <tr>\n      <th>0</th>\n      <td>0</td>\n      <td>59</td>\n      <td>22154</td>\n      <td>1.0</td>\n      <td>0.0</td>\n      <td>0.0</td>\n      <td>0.0</td>\n      <td>0.0</td>\n      <td>0.0</td>\n      <td>0.0</td>\n    </tr>\n    <tr>\n      <th>1</th>\n      <td>0</td>\n      <td>59</td>\n      <td>2552</td>\n      <td>0.0</td>\n      <td>0.0</td>\n      <td>0.0</td>\n      <td>0.0</td>\n      <td>0.0</td>\n      <td>0.0</td>\n      <td>0.0</td>\n    </tr>\n    <tr>\n      <th>2</th>\n      <td>0</td>\n      <td>59</td>\n      <td>2554</td>\n      <td>0.0</td>\n      <td>0.0</td>\n      <td>0.0</td>\n      <td>0.0</td>\n      <td>0.0</td>\n      <td>0.0</td>\n      <td>0.0</td>\n    </tr>\n    <tr>\n      <th>3</th>\n      <td>0</td>\n      <td>59</td>\n      <td>2555</td>\n      <td>0.0</td>\n      <td>0.0</td>\n      <td>0.0</td>\n      <td>0.0</td>\n      <td>0.0</td>\n      <td>0.0</td>\n      <td>0.0</td>\n    </tr>\n    <tr>\n      <th>4</th>\n      <td>0</td>\n      <td>59</td>\n      <td>2564</td>\n      <td>0.0</td>\n      <td>0.0</td>\n      <td>0.0</td>\n      <td>0.0</td>\n      <td>0.0</td>\n      <td>0.0</td>\n      <td>0.0</td>\n    </tr>\n  </tbody>\n</table>\n</div>"
     },
     "metadata": {},
     "execution_count": 24
    }
   ],
   "source": [
    "all_data = pd.concat([matrix, test])\n",
    "all_data = downcast_dtypes(all_data)\n",
    "\n",
    "lags = [1, 2, 3, 4, 5, 12]\n",
    "\n",
    "all_data = lag_features(all_data, lags, 'item_cnt_month')\n",
    "\n",
    "all_data.head()"
   ]
  },
  {
   "cell_type": "code",
   "execution_count": 25,
   "metadata": {},
   "outputs": [
    {
     "output_type": "execute_result",
     "data": {
      "text/plain": "date_block_num           0\nshop_id                  0\nitem_id                  0\nitem_cnt_month           0\nitem_cnt_month_lag_1     0\nitem_cnt_month_lag_2     0\nitem_cnt_month_lag_3     0\nitem_cnt_month_lag_4     0\nitem_cnt_month_lag_5     0\nitem_cnt_month_lag_12    0\ndtype: int64"
     },
     "metadata": {},
     "execution_count": 25
    }
   ],
   "source": [
    "all_data.isnull().sum()"
   ]
  },
  {
   "cell_type": "code",
   "execution_count": 22,
   "metadata": {},
   "outputs": [
    {
     "output_type": "stream",
     "name": "stdout",
     "text": "(10913850, 3) (10913850,)\n[Parallel(n_jobs=-1)]: Using backend ThreadingBackend with 8 concurrent workers.\n[Parallel(n_jobs=-1)]: Done  34 tasks      | elapsed:  4.1min\n[Parallel(n_jobs=-1)]: Done  50 out of  50 | elapsed:  5.3min finished\n"
    },
    {
     "output_type": "execute_result",
     "data": {
      "text/plain": "RandomForestRegressor(max_depth=15, n_estimators=50, n_jobs=-1, random_state=18,\n                      verbose=1)"
     },
     "metadata": {},
     "execution_count": 22
    }
   ],
   "source": [
    "X = matrix.drop('item_cnt_month', axis=1).values\n",
    "\n",
    "y = matrix['item_cnt_month'].values\n",
    "y = y.clip(0., 20.)\n",
    "\n",
    "print(X.shape, y.shape)\n",
    "\n",
    "#from sklearn.model_selection import train_test_split\n",
    "#X_train, X_val, y_train, y_val = train_test_split(X, y, train_size=0.8)\n",
    "\n",
    "from sklearn.ensemble import RandomForestRegressor\n",
    "\n",
    "model_rf = RandomForestRegressor(n_jobs=-1, verbose=1, n_estimators=50, max_depth=20, random_state=18) #rs was 18\n",
    "model_rf.fit(X_train, y_train)"
   ]
  },
  {
   "cell_type": "markdown",
   "metadata": {},
   "source": [
    "# Training"
   ]
  },
  {
   "cell_type": "code",
   "execution_count": 29,
   "metadata": {
    "tags": []
   },
   "outputs": [
    {
     "output_type": "stream",
     "name": "stdout",
     "text": "(10913850, 9) (10913850,) (214200, 9) (214200,) (214200, 9)\n"
    }
   ],
   "source": [
    "val_tresh = 34 #34 if we do not want to validate\n",
    "\n",
    "X_train = all_data[all_data['date_block_num'] < val_tresh].drop('item_cnt_month', axis=1).values\n",
    "y_train = all_data.loc[all_data['date_block_num'] < val_tresh]['item_cnt_month'].values\n",
    "\n",
    "\n",
    "X_val = all_data[all_data['date_block_num'] == val_tresh].drop('item_cnt_month', axis=1).values\n",
    "y_val = all_data[all_data['date_block_num'] == val_tresh]['item_cnt_month'].values\n",
    "\n",
    "X_test = all_data[all_data['date_block_num'] == 34].drop('item_cnt_month', axis=1).values\n",
    "\n",
    "y_train = y_train.clip(0, 20)\n",
    "y_val = y_val.clip(0, 20)\n",
    "\n",
    "print(X_train.shape, y_train.shape, X_val.shape, y_val.shape, X_test.shape)"
   ]
  },
  {
   "cell_type": "code",
   "execution_count": 30,
   "metadata": {
    "tags": []
   },
   "outputs": [
    {
     "output_type": "stream",
     "name": "stderr",
     "text": "[Parallel(n_jobs=-1)]: Using backend ThreadingBackend with 8 concurrent workers.\n[Parallel(n_jobs=-1)]: Done  34 tasks      | elapsed:  7.5min\n[Parallel(n_jobs=-1)]: Done  50 out of  50 | elapsed:  9.8min finished\n"
    },
    {
     "output_type": "execute_result",
     "data": {
      "text/plain": "RandomForestRegressor(max_depth=25, n_estimators=50, n_jobs=-1, random_state=18,\n                      verbose=1)"
     },
     "metadata": {},
     "execution_count": 30
    }
   ],
   "source": [
    "from sklearn.ensemble import RandomForestRegressor\n",
    "\n",
    "model_rf = RandomForestRegressor(n_jobs=-1, verbose=1, n_estimators=50, max_depth=25, random_state=18) #rs was 18\n",
    "model_rf.fit(X_train, y_train)"
   ]
  },
  {
   "cell_type": "code",
   "execution_count": 37,
   "metadata": {},
   "outputs": [
    {
     "output_type": "stream",
     "name": "stderr",
     "text": "[Parallel(n_jobs=8)]: Using backend ThreadingBackend with 8 concurrent workers.\n[Parallel(n_jobs=8)]: Done  34 tasks      | elapsed:    1.7s\nvalidation RMSE: 1.09239565502689\n[Parallel(n_jobs=8)]: Done  50 out of  50 | elapsed:    2.3s finished\n"
    }
   ],
   "source": [
    "from sklearn.metrics import mean_squared_error\n",
    "\n",
    "y_preds = model_rf.predict(X_val).clip(0, 20)\n",
    "\n",
    "rmse = np.sqrt(mean_squared_error(y_val, y_preds))\n",
    "print(\"validation RMSE:\", rmse)"
   ]
  },
  {
   "cell_type": "code",
   "execution_count": 32,
   "metadata": {
    "tags": []
   },
   "outputs": [
    {
     "output_type": "stream",
     "name": "stderr",
     "text": "[Parallel(n_jobs=8)]: Using backend ThreadingBackend with 8 concurrent workers.\n[Parallel(n_jobs=8)]: Done  34 tasks      | elapsed:    0.2s\n[Parallel(n_jobs=8)]: Done  50 out of  50 | elapsed:    0.3s finished\ndone\n"
    }
   ],
   "source": [
    "preds = model_rf.predict(X_test).clip(0, 20)\n",
    "\n",
    "df_sub['item_cnt_month'] = preds #round?\n",
    "df_sub.to_csv(os.path.join(data_folder, 'sub_out_lags'), index=False)\n",
    "print(\"done\")"
   ]
  }
 ],
 "metadata": {
  "kernelspec": {
   "display_name": "Python 3",
   "language": "python",
   "name": "python3"
  },
  "language_info": {
   "codemirror_mode": {
    "name": "ipython",
    "version": 3
   },
   "file_extension": ".py",
   "mimetype": "text/x-python",
   "name": "python",
   "nbconvert_exporter": "python",
   "pygments_lexer": "ipython3",
   "version": "3.7.6-final"
  }
 },
 "nbformat": 4,
 "nbformat_minor": 4
}