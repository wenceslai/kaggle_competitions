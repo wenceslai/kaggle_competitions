{
 "cells": [
  {
   "cell_type": "code",
   "execution_count": 1,
   "metadata": {},
   "outputs": [],
   "source": [
    "import pandas as pd\n",
    "import numpy as np\n",
    "import os\n",
    "\n",
    "data_folder = '/home/wenceslai/Documents/titanic_kaggle'\n",
    "data = pd.read_csv(os.path.join(data_folder, 'train.csv'))\n",
    "data = data.fillna(data.mean()) #better to do it in val and train sets differently\n",
    "                                #it leaks information like this\n",
    "#data = data.dropna(axis=0)\n",
    "#data.head()"
   ]
  },
  {
   "cell_type": "code",
   "execution_count": 2,
   "metadata": {
    "pycharm": {
     "name": "#%%\n"
    }
   },
   "outputs": [],
   "source": [
    "data = data.drop(['Name', 'Embarked', 'SibSp', 'Ticket', 'Cabin', 'Parch'], axis=1)"
   ]
  },
  {
   "cell_type": "code",
   "execution_count": 3,
   "metadata": {
    "pycharm": {
     "name": "#%%\n"
    }
   },
   "outputs": [],
   "source": [
    "data = data.to_numpy()\n",
    "targets = np.empty(shape=(len(data), 1))\n",
    "surv_i = 1\n",
    "sex_i = 3\n",
    "for i in range(len(data)):\n",
    "    targets[i] = data[i, surv_i]\n",
    "    if data[i, sex_i] == 'male': data[i, sex_i] = 1\n",
    "    elif data[i, sex_i] == 'female': data[i, sex_i] = 0\n",
    "\n",
    "inputs = np.delete(data, 1, 1)\n",
    "inputs = np.delete(inputs, 0, 1)\n",
    "\n",
    "inputs = inputs.astype('float32')"
   ]
  },
  {
   "cell_type": "code",
   "execution_count": 4,
   "metadata": {
    "pycharm": {
     "name": "#%% dividing dataset\n"
    }
   },
   "outputs": [
    {
     "name": "stdout",
     "output_type": "stream",
     "text": [
      "training:  (791, 4) (791, 1) validation:  (100, 4) (100, 1)\n"
     ]
    }
   ],
   "source": [
    "val_set_len = 100\n",
    "train_set_len = len(inputs) - val_set_len\n",
    "\n",
    "x_train = inputs[:train_set_len]\n",
    "y_train = targets[:train_set_len]\n",
    "\n",
    "x_val = inputs[train_set_len:]\n",
    "y_val = targets[train_set_len:]\n",
    "\n",
    "print(\"training: \", x_train.shape, y_train.shape, \"validation: \", x_val.shape, y_val.shape)"
   ]
  },
  {
   "cell_type": "code",
   "execution_count": 5,
   "metadata": {
    "pycharm": {
     "name": "#%% normalizing data\n"
    }
   },
   "outputs": [],
   "source": [
    "x_train -= x_train.mean(axis=0)\n",
    "x_train /= x_train.std(axis=0)\n",
    "\n",
    "x_val -= x_val.mean(axis=0)\n",
    "x_val /= x_val.std(axis=0)"
   ]
  },
  {
   "cell_type": "code",
   "execution_count": 6,
   "metadata": {
    "pycharm": {
     "name": "#%%\n"
    }
   },
   "outputs": [
    {
     "name": "stderr",
     "output_type": "stream",
     "text": [
      "Using TensorFlow backend.\n"
     ]
    },
    {
     "name": "stdout",
     "output_type": "stream",
     "text": [
      "WARNING:tensorflow:From /home/wenceslai/anaconda3/envs/tf/lib/python3.7/site-packages/keras/backend/tensorflow_backend.py:74: The name tf.get_default_graph is deprecated. Please use tf.compat.v1.get_default_graph instead.\n",
      "\n",
      "WARNING:tensorflow:From /home/wenceslai/anaconda3/envs/tf/lib/python3.7/site-packages/keras/backend/tensorflow_backend.py:517: The name tf.placeholder is deprecated. Please use tf.compat.v1.placeholder instead.\n",
      "\n",
      "WARNING:tensorflow:From /home/wenceslai/anaconda3/envs/tf/lib/python3.7/site-packages/keras/backend/tensorflow_backend.py:4138: The name tf.random_uniform is deprecated. Please use tf.random.uniform instead.\n",
      "\n",
      "WARNING:tensorflow:From /home/wenceslai/anaconda3/envs/tf/lib/python3.7/site-packages/keras/optimizers.py:790: The name tf.train.Optimizer is deprecated. Please use tf.compat.v1.train.Optimizer instead.\n",
      "\n",
      "WARNING:tensorflow:From /home/wenceslai/anaconda3/envs/tf/lib/python3.7/site-packages/keras/backend/tensorflow_backend.py:3376: The name tf.log is deprecated. Please use tf.math.log instead.\n",
      "\n",
      "WARNING:tensorflow:From /home/wenceslai/anaconda3/envs/tf/lib/python3.7/site-packages/tensorflow_core/python/ops/nn_impl.py:183: where (from tensorflow.python.ops.array_ops) is deprecated and will be removed in a future version.\n",
      "Instructions for updating:\n",
      "Use tf.where in 2.0, which has the same broadcast rule as np.where\n"
     ]
    }
   ],
   "source": [
    "from keras import models, layers\n",
    "\n",
    "model = models.Sequential()\n",
    "model.add(layers.Dense(64, activation='relu', input_shape=(x_train.shape[1], )))\n",
    "model.add(layers.Dense(32, activation='relu'))\n",
    "model.add(layers.Dense(1, activation='sigmoid'))\n",
    "\n",
    "model.compile(optimizer='rmsprop',\n",
    "              loss='binary_crossentropy',\n",
    "              metrics=['acc'])"
   ]
  },
  {
   "cell_type": "code",
   "execution_count": 7,
   "metadata": {
    "pycharm": {
     "name": "#%%\n"
    }
   },
   "outputs": [
    {
     "name": "stdout",
     "output_type": "stream",
     "text": [
      "WARNING:tensorflow:From /home/wenceslai/anaconda3/envs/tf/lib/python3.7/site-packages/keras/backend/tensorflow_backend.py:986: The name tf.assign_add is deprecated. Please use tf.compat.v1.assign_add instead.\n",
      "\n",
      "WARNING:tensorflow:From /home/wenceslai/anaconda3/envs/tf/lib/python3.7/site-packages/keras/backend/tensorflow_backend.py:973: The name tf.assign is deprecated. Please use tf.compat.v1.assign instead.\n",
      "\n",
      "WARNING:tensorflow:From /home/wenceslai/anaconda3/envs/tf/lib/python3.7/site-packages/keras/backend/tensorflow_backend.py:2741: The name tf.Session is deprecated. Please use tf.compat.v1.Session instead.\n",
      "\n",
      "Train on 791 samples, validate on 100 samples\n",
      "Epoch 1/50\n",
      "WARNING:tensorflow:From /home/wenceslai/anaconda3/envs/tf/lib/python3.7/site-packages/keras/backend/tensorflow_backend.py:174: The name tf.get_default_session is deprecated. Please use tf.compat.v1.get_default_session instead.\n",
      "\n",
      "WARNING:tensorflow:From /home/wenceslai/anaconda3/envs/tf/lib/python3.7/site-packages/keras/backend/tensorflow_backend.py:181: The name tf.ConfigProto is deprecated. Please use tf.compat.v1.ConfigProto instead.\n",
      "\n",
      "WARNING:tensorflow:From /home/wenceslai/anaconda3/envs/tf/lib/python3.7/site-packages/keras/backend/tensorflow_backend.py:190: The name tf.global_variables is deprecated. Please use tf.compat.v1.global_variables instead.\n",
      "\n",
      "WARNING:tensorflow:From /home/wenceslai/anaconda3/envs/tf/lib/python3.7/site-packages/keras/backend/tensorflow_backend.py:199: The name tf.is_variable_initialized is deprecated. Please use tf.compat.v1.is_variable_initialized instead.\n",
      "\n",
      "WARNING:tensorflow:From /home/wenceslai/anaconda3/envs/tf/lib/python3.7/site-packages/keras/backend/tensorflow_backend.py:206: The name tf.variables_initializer is deprecated. Please use tf.compat.v1.variables_initializer instead.\n",
      "\n",
      " - 1s - loss: 0.6828 - acc: 0.5234 - val_loss: 0.6233 - val_acc: 0.6800\n",
      "Epoch 2/50\n",
      " - 0s - loss: 0.6066 - acc: 0.7838 - val_loss: 0.5675 - val_acc: 0.7900\n",
      "Epoch 3/50\n",
      " - 0s - loss: 0.5599 - acc: 0.7927 - val_loss: 0.5292 - val_acc: 0.7900\n",
      "Epoch 4/50\n",
      " - 0s - loss: 0.5271 - acc: 0.7965 - val_loss: 0.4956 - val_acc: 0.7900\n",
      "Epoch 5/50\n",
      " - 0s - loss: 0.5007 - acc: 0.7914 - val_loss: 0.4750 - val_acc: 0.7800\n",
      "Epoch 6/50\n",
      " - 0s - loss: 0.4824 - acc: 0.7939 - val_loss: 0.4588 - val_acc: 0.7800\n",
      "Epoch 7/50\n",
      " - 0s - loss: 0.4675 - acc: 0.7965 - val_loss: 0.4439 - val_acc: 0.7800\n",
      "Epoch 8/50\n",
      " - 0s - loss: 0.4576 - acc: 0.7927 - val_loss: 0.4363 - val_acc: 0.7800\n",
      "Epoch 9/50\n",
      " - 0s - loss: 0.4506 - acc: 0.7952 - val_loss: 0.4309 - val_acc: 0.7800\n",
      "Epoch 10/50\n",
      " - 0s - loss: 0.4474 - acc: 0.8003 - val_loss: 0.4290 - val_acc: 0.7800\n",
      "Epoch 11/50\n",
      " - 0s - loss: 0.4445 - acc: 0.7977 - val_loss: 0.4249 - val_acc: 0.7800\n",
      "Epoch 12/50\n",
      " - 0s - loss: 0.4426 - acc: 0.7977 - val_loss: 0.4237 - val_acc: 0.7900\n",
      "Epoch 13/50\n",
      " - 0s - loss: 0.4407 - acc: 0.8003 - val_loss: 0.4177 - val_acc: 0.7800\n",
      "Epoch 14/50\n",
      " - 0s - loss: 0.4385 - acc: 0.7990 - val_loss: 0.4198 - val_acc: 0.8000\n",
      "Epoch 15/50\n",
      " - 0s - loss: 0.4385 - acc: 0.7977 - val_loss: 0.4135 - val_acc: 0.8100\n",
      "Epoch 16/50\n",
      " - 0s - loss: 0.4367 - acc: 0.8053 - val_loss: 0.4124 - val_acc: 0.8000\n",
      "Epoch 17/50\n",
      " - 0s - loss: 0.4368 - acc: 0.8040 - val_loss: 0.4067 - val_acc: 0.8000\n",
      "Epoch 18/50\n",
      " - 0s - loss: 0.4342 - acc: 0.7965 - val_loss: 0.4093 - val_acc: 0.8000\n",
      "Epoch 19/50\n",
      " - 0s - loss: 0.4331 - acc: 0.8091 - val_loss: 0.4068 - val_acc: 0.8000\n",
      "Epoch 20/50\n",
      " - 0s - loss: 0.4321 - acc: 0.8091 - val_loss: 0.4041 - val_acc: 0.8000\n",
      "Epoch 21/50\n",
      " - 0s - loss: 0.4320 - acc: 0.8091 - val_loss: 0.4067 - val_acc: 0.8000\n",
      "Epoch 22/50\n",
      " - 0s - loss: 0.4313 - acc: 0.8104 - val_loss: 0.4016 - val_acc: 0.8100\n",
      "Epoch 23/50\n",
      " - 0s - loss: 0.4291 - acc: 0.8066 - val_loss: 0.3987 - val_acc: 0.8300\n",
      "Epoch 24/50\n",
      " - 0s - loss: 0.4296 - acc: 0.8066 - val_loss: 0.4032 - val_acc: 0.8000\n",
      "Epoch 25/50\n",
      " - 0s - loss: 0.4289 - acc: 0.8003 - val_loss: 0.4040 - val_acc: 0.7900\n",
      "Epoch 26/50\n",
      " - 0s - loss: 0.4283 - acc: 0.8104 - val_loss: 0.3964 - val_acc: 0.8200\n",
      "Epoch 27/50\n",
      " - 0s - loss: 0.4276 - acc: 0.8078 - val_loss: 0.3953 - val_acc: 0.8300\n",
      "Epoch 28/50\n",
      " - 0s - loss: 0.4269 - acc: 0.8129 - val_loss: 0.3940 - val_acc: 0.8300\n",
      "Epoch 29/50\n",
      " - 0s - loss: 0.4263 - acc: 0.8142 - val_loss: 0.3959 - val_acc: 0.8300\n",
      "Epoch 30/50\n",
      " - 0s - loss: 0.4259 - acc: 0.8154 - val_loss: 0.3920 - val_acc: 0.8200\n",
      "Epoch 31/50\n",
      " - 0s - loss: 0.4273 - acc: 0.8066 - val_loss: 0.3947 - val_acc: 0.8200\n",
      "Epoch 32/50\n",
      " - 0s - loss: 0.4258 - acc: 0.8192 - val_loss: 0.3925 - val_acc: 0.8200\n",
      "Epoch 33/50\n",
      " - 0s - loss: 0.4245 - acc: 0.8129 - val_loss: 0.3906 - val_acc: 0.8300\n",
      "Epoch 34/50\n",
      " - 0s - loss: 0.4245 - acc: 0.8192 - val_loss: 0.3893 - val_acc: 0.8400\n",
      "Epoch 35/50\n",
      " - 0s - loss: 0.4242 - acc: 0.8205 - val_loss: 0.3891 - val_acc: 0.8200\n",
      "Epoch 36/50\n",
      " - 0s - loss: 0.4238 - acc: 0.8154 - val_loss: 0.3911 - val_acc: 0.8200\n",
      "Epoch 37/50\n",
      " - 0s - loss: 0.4225 - acc: 0.8116 - val_loss: 0.3903 - val_acc: 0.8200\n",
      "Epoch 38/50\n",
      " - 0s - loss: 0.4244 - acc: 0.8116 - val_loss: 0.3903 - val_acc: 0.8200\n",
      "Epoch 39/50\n",
      " - 0s - loss: 0.4218 - acc: 0.8091 - val_loss: 0.3907 - val_acc: 0.8300\n",
      "Epoch 40/50\n",
      " - 0s - loss: 0.4226 - acc: 0.8142 - val_loss: 0.3952 - val_acc: 0.8300\n",
      "Epoch 41/50\n",
      " - 0s - loss: 0.4223 - acc: 0.8104 - val_loss: 0.3933 - val_acc: 0.8200\n",
      "Epoch 42/50\n",
      " - 0s - loss: 0.4228 - acc: 0.8104 - val_loss: 0.3925 - val_acc: 0.8200\n",
      "Epoch 43/50\n",
      " - 0s - loss: 0.4222 - acc: 0.8053 - val_loss: 0.3836 - val_acc: 0.8500\n",
      "Epoch 44/50\n",
      " - 0s - loss: 0.4206 - acc: 0.8205 - val_loss: 0.3870 - val_acc: 0.8200\n",
      "Epoch 45/50\n",
      " - 0s - loss: 0.4196 - acc: 0.8154 - val_loss: 0.3849 - val_acc: 0.8300\n",
      "Epoch 46/50\n",
      " - 0s - loss: 0.4189 - acc: 0.8129 - val_loss: 0.3870 - val_acc: 0.8300\n",
      "Epoch 47/50\n",
      " - 0s - loss: 0.4204 - acc: 0.8129 - val_loss: 0.3821 - val_acc: 0.8500\n",
      "Epoch 48/50\n",
      " - 0s - loss: 0.4196 - acc: 0.8255 - val_loss: 0.3824 - val_acc: 0.8200\n",
      "Epoch 49/50\n",
      " - 0s - loss: 0.4186 - acc: 0.8167 - val_loss: 0.3850 - val_acc: 0.8300\n",
      "Epoch 50/50\n",
      " - 0s - loss: 0.4204 - acc: 0.8104 - val_loss: 0.3804 - val_acc: 0.8500\n"
     ]
    }
   ],
   "source": [
    "num_of_epochs = 50\n",
    "history = model.fit(x_train, y_train,\n",
    "                    batch_size=128,\n",
    "                    epochs=num_of_epochs,\n",
    "                    validation_data=(x_val, y_val),\n",
    "                    verbose=2)"
   ]
  },
  {
   "cell_type": "code",
   "execution_count": 8,
   "metadata": {
    "pycharm": {
     "name": "#%%\n"
    }
   },
   "outputs": [
    {
     "name": "stdout",
     "output_type": "stream",
     "text": [
      "dict_keys(['val_loss', 'val_acc', 'loss', 'acc'])\n"
     ]
    }
   ],
   "source": [
    "print(history.history.keys())"
   ]
  },
  {
   "cell_type": "code",
   "execution_count": 9,
   "metadata": {
    "pycharm": {
     "name": "#%%\n"
    }
   },
   "outputs": [
    {
     "data": {
      "text/plain": "<Figure size 432x288 with 1 Axes>",
      "image/png": "[encoded data removed]"
     },
     "metadata": {
      "needs_background": "light"
     },
     "output_type": "display_data"
    },
    {
     "data": {
      "text/plain": "<Figure size 432x288 with 1 Axes>",
      "image/png": "[encoded data removed]"
     },
     "metadata": {
      "needs_background": "light"
     },
     "output_type": "display_data"
    }
   ],
   "source": [
    "loss = history.history['loss']\n",
    "accuracy = history.history['acc']\n",
    "val_loss = history.history['val_loss']\n",
    "val_accuracy = history.history['val_acc']\n",
    "\n",
    "import matplotlib.pyplot as plt\n",
    "\n",
    "plt.plot(range(num_of_epochs), loss, label=\"loss\")\n",
    "plt.plot(range(num_of_epochs), val_loss, label=\"val_loss\")\n",
    "plt.figure()\n",
    "plt.plot(range(num_of_epochs), accuracy)\n",
    "plt.plot(range(num_of_epochs), val_accuracy)\n",
    "plt.show()"
   ]
  },
  {
   "cell_type": "code",
   "execution_count": 10,
   "metadata": {
    "pycharm": {
     "name": "#%%\n"
    }
   },
   "outputs": [],
   "source": [
    "test_data = pd.read_csv(os.path.join(data_folder, 'test.csv'))\n",
    "test_data = test_data.fillna(test_data.mean())\n",
    "test_data = test_data.drop(['Name', 'Embarked', 'SibSp', 'Ticket', 'Cabin', 'Parch'], axis=1)\n",
    "\n",
    "x_test = test_data.to_numpy()\n",
    "x_test = np.delete(x_test, 0, 1)\n",
    "\n",
    "for i in range(len(x_test)):\n",
    "    if x_test[i, 1] == 'male': x_test[i, 1] = 1\n",
    "    elif x_test[i, 1] == 'female': x_test[i, 1] = 0\n",
    "\n",
    "x_test = x_test.astype('float32')\n",
    "x_test -= x_test.mean(axis=0)\n",
    "x_test /= x_test.std(axis=0)\n",
    "\n",
    "submission = np.empty(shape=(len(x_test), 2))\n",
    "pass_index = 892\n",
    "y = model.predict(x_test)\n",
    "y = np.round(y)\n",
    "\n",
    "for i in range(len(x_test)):\n",
    "    submission[i, 1] = y[i]\n",
    "    submission[i, 0] = pass_index\n",
    "    pass_index += 1\n",
    "\n",
    "submission = submission.astype(int)\n",
    "submission_final = pd.DataFrame({'PassengerId' : submission[:, 0], 'Survived' : submission[:, 1]})\n",
    "submission_final.to_csv(os.path.join(data_folder, 'submission_out4.csv'), index=False)\n",
    "\n"
   ]
  }
 ],
 "metadata": {
  "kernelspec": {
   "display_name": "Python 3",
   "language": "python",
   "name": "python3"
  },
  "language_info": {
   "codemirror_mode": {
    "name": "ipython",
    "version": 3
   },
   "file_extension": ".py",
   "mimetype": "text/x-python",
   "name": "python",
   "nbconvert_exporter": "python",
   "pygments_lexer": "ipython3",
   "version": "3.7.6"
  }
 },
 "nbformat": 4,
 "nbformat_minor": 1
}