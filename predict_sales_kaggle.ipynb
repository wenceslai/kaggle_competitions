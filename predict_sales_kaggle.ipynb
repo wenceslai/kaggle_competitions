{
 "cells": [
  {
   "cell_type": "code",
   "execution_count": 26,
   "metadata": {
    "pycharm": {
     "name": "#%%\n"
    },
    "scrolled": true
   },
   "outputs": [
    {
     "name": "stdout",
     "output_type": "stream",
     "text": [
      "(2935849, 6)\n"
     ]
    },
    {
     "data": {
      "text/html": [
       "<div>\n",
       "<style scoped>\n",
       "    .dataframe tbody tr th:only-of-type {\n",
       "        vertical-align: middle;\n",
       "    }\n",
       "\n",
       "    .dataframe tbody tr th {\n",
       "        vertical-align: top;\n",
       "    }\n",
       "\n",
       "    .dataframe thead th {\n",
       "        text-align: right;\n",
       "    }\n",
       "</style>\n",
       "<table border=\"1\" class=\"dataframe\">\n",
       "  <thead>\n",
       "    <tr style=\"text-align: right;\">\n",
       "      <th></th>\n",
       "      <th>date</th>\n",
       "      <th>date_block_num</th>\n",
       "      <th>shop_id</th>\n",
       "      <th>item_id</th>\n",
       "      <th>item_price</th>\n",
       "      <th>item_cnt_day</th>\n",
       "    </tr>\n",
       "  </thead>\n",
       "  <tbody>\n",
       "    <tr>\n",
       "      <th>0</th>\n",
       "      <td>02.01.2013</td>\n",
       "      <td>0</td>\n",
       "      <td>59</td>\n",
       "      <td>22154</td>\n",
       "      <td>999.00</td>\n",
       "      <td>1.0</td>\n",
       "    </tr>\n",
       "    <tr>\n",
       "      <th>1</th>\n",
       "      <td>03.01.2013</td>\n",
       "      <td>0</td>\n",
       "      <td>25</td>\n",
       "      <td>2552</td>\n",
       "      <td>899.00</td>\n",
       "      <td>1.0</td>\n",
       "    </tr>\n",
       "    <tr>\n",
       "      <th>2</th>\n",
       "      <td>05.01.2013</td>\n",
       "      <td>0</td>\n",
       "      <td>25</td>\n",
       "      <td>2552</td>\n",
       "      <td>899.00</td>\n",
       "      <td>-1.0</td>\n",
       "    </tr>\n",
       "    <tr>\n",
       "      <th>3</th>\n",
       "      <td>06.01.2013</td>\n",
       "      <td>0</td>\n",
       "      <td>25</td>\n",
       "      <td>2554</td>\n",
       "      <td>1709.05</td>\n",
       "      <td>1.0</td>\n",
       "    </tr>\n",
       "    <tr>\n",
       "      <th>4</th>\n",
       "      <td>15.01.2013</td>\n",
       "      <td>0</td>\n",
       "      <td>25</td>\n",
       "      <td>2555</td>\n",
       "      <td>1099.00</td>\n",
       "      <td>1.0</td>\n",
       "    </tr>\n",
       "  </tbody>\n",
       "</table>\n",
       "</div>"
      ],
      "text/plain": [
       "         date  date_block_num  shop_id  item_id  item_price  item_cnt_day\n",
       "0  02.01.2013               0       59    22154      999.00           1.0\n",
       "1  03.01.2013               0       25     2552      899.00           1.0\n",
       "2  05.01.2013               0       25     2552      899.00          -1.0\n",
       "3  06.01.2013               0       25     2554     1709.05           1.0\n",
       "4  15.01.2013               0       25     2555     1099.00           1.0"
      ]
     },
     "execution_count": 26,
     "metadata": {},
     "output_type": "execute_result"
    }
   ],
   "source": [
    "import pandas as pd\n",
    "import numpy as np\n",
    "import seaborn as sns\n",
    "import matplotlib.pyplot as plt\n",
    "import os\n",
    "import random\n",
    "\n",
    "data_folder = \"/home/wenceslai/Documents/predict_sales_kaggle\"\n",
    "\n",
    "train_data = pd.read_csv(os.path.join(data_folder, 'sales_train.csv'))\n",
    "df_train = train_data.copy()\n",
    "\n",
    "df_itemcats = pd.read_csv(os.path.join(data_folder, 'items.csv'))\n",
    "\n",
    "df_test = pd.read_csv(os.path.join(data_folder, 'test.csv'))\n",
    "df_sub = pd.read_csv(os.path.join(data_folder, 'sample_submission.csv'))\n",
    "\n",
    "print(df_train.shape)\n",
    "df_train.head()"
   ]
  },
  {
   "cell_type": "markdown",
   "metadata": {
    "pycharm": {
     "name": "#%%\n"
    },
    "scrolled": true
   },
   "source": [
    "#correlation matrix\n",
    "corr = df_train.corr()\n",
    "sns.heatmap(data=corr, square=True, annot=True, fmt='.2f')\n",
    "\n",
    "df_train.plot.scatter(x='shop_id', y='item_price')"
   ]
  },
  {
   "cell_type": "code",
   "execution_count": 27,
   "metadata": {
    "pycharm": {
     "name": "#%%\n"
    },
    "scrolled": false
   },
   "outputs": [
    {
     "data": {
      "text/html": [
       "<div>\n",
       "<style scoped>\n",
       "    .dataframe tbody tr th:only-of-type {\n",
       "        vertical-align: middle;\n",
       "    }\n",
       "\n",
       "    .dataframe tbody tr th {\n",
       "        vertical-align: top;\n",
       "    }\n",
       "\n",
       "    .dataframe thead th {\n",
       "        text-align: right;\n",
       "    }\n",
       "</style>\n",
       "<table border=\"1\" class=\"dataframe\">\n",
       "  <thead>\n",
       "    <tr style=\"text-align: right;\">\n",
       "      <th></th>\n",
       "      <th>date_block_num</th>\n",
       "      <th>shop_id</th>\n",
       "      <th>item_id</th>\n",
       "      <th>avg_price</th>\n",
       "      <th>month_sum</th>\n",
       "      <th>item_category_id</th>\n",
       "    </tr>\n",
       "  </thead>\n",
       "  <tbody>\n",
       "    <tr>\n",
       "      <th>0</th>\n",
       "      <td>0</td>\n",
       "      <td>0</td>\n",
       "      <td>32</td>\n",
       "      <td>221.0</td>\n",
       "      <td>6.0</td>\n",
       "      <td>40</td>\n",
       "    </tr>\n",
       "    <tr>\n",
       "      <th>1</th>\n",
       "      <td>0</td>\n",
       "      <td>0</td>\n",
       "      <td>33</td>\n",
       "      <td>347.0</td>\n",
       "      <td>3.0</td>\n",
       "      <td>37</td>\n",
       "    </tr>\n",
       "    <tr>\n",
       "      <th>2</th>\n",
       "      <td>0</td>\n",
       "      <td>0</td>\n",
       "      <td>35</td>\n",
       "      <td>247.0</td>\n",
       "      <td>1.0</td>\n",
       "      <td>40</td>\n",
       "    </tr>\n",
       "    <tr>\n",
       "      <th>3</th>\n",
       "      <td>0</td>\n",
       "      <td>0</td>\n",
       "      <td>43</td>\n",
       "      <td>221.0</td>\n",
       "      <td>1.0</td>\n",
       "      <td>40</td>\n",
       "    </tr>\n",
       "    <tr>\n",
       "      <th>4</th>\n",
       "      <td>0</td>\n",
       "      <td>0</td>\n",
       "      <td>51</td>\n",
       "      <td>128.5</td>\n",
       "      <td>2.0</td>\n",
       "      <td>57</td>\n",
       "    </tr>\n",
       "  </tbody>\n",
       "</table>\n",
       "</div>"
      ],
      "text/plain": [
       "   date_block_num  shop_id  item_id  avg_price  month_sum  item_category_id\n",
       "0               0        0       32      221.0        6.0                40\n",
       "1               0        0       33      347.0        3.0                37\n",
       "2               0        0       35      247.0        1.0                40\n",
       "3               0        0       43      221.0        1.0                40\n",
       "4               0        0       51      128.5        2.0                57"
      ]
     },
     "execution_count": 27,
     "metadata": {},
     "output_type": "execute_result"
    }
   ],
   "source": [
    "df_itemcats = df_itemcats.drop('item_name', axis=1)\n",
    "\n",
    "#aggregating average price and monthly sales\n",
    "df_train = df_train.groupby(['date_block_num', 'shop_id', 'item_id']).agg({'item_price' : ['mean'], 'item_cnt_day' : ['sum']})\n",
    "df_train.columns = ['avg_price', 'month_sum']\n",
    "\n",
    "df_train = df_train.reset_index()\n",
    "\n",
    "avg_prices = df_train[['item_id', 'avg_price']].copy()\n",
    "\n",
    "#adding item categories\n",
    "df_train = df_train.merge(df_itemcats, how='left')\n",
    "\n",
    "#df_train['date_block_num'] %= 12\n",
    "\n",
    "df_train.head()"
   ]
  },
  {
   "cell_type": "code",
   "execution_count": 28,
   "metadata": {
    "pycharm": {
     "name": "#%%\n"
    },
    "scrolled": true
   },
   "outputs": [
    {
     "name": "stdout",
     "output_type": "stream",
     "text": [
      "date_block_num      0\n",
      "shop_id             0\n",
      "item_id             0\n",
      "item_category_id    0\n",
      "avg_price           0\n",
      "dtype: int64\n"
     ]
    }
   ],
   "source": [
    "#test data frame\n",
    "#date_block_num \tshop_id \titem_id \tmonth_sum \titem_category_id \titem_price\n",
    "\n",
    "df_test['date_block_num'] = 34 #% 12\n",
    "\n",
    "df_test = df_test.merge(df_itemcats, on='item_id', how='left')\n",
    "\n",
    "avg_prices = avg_prices.drop_duplicates() #average prices of items\n",
    "avg_prices_train = avg_prices.groupby('item_id')['avg_price'].mean()\n",
    "df_test = df_test.merge(avg_prices_train, on='item_id', how='left')\n",
    "\n",
    "df_test = df_test.sort_values(by=['ID'])\n",
    "\n",
    "df_test = df_test[['date_block_num', 'shop_id', 'item_id', 'item_category_id', 'avg_price']]\n",
    "df_test['avg_price'] = df_test['avg_price'].fillna(df_test['avg_price'].mean())\n",
    "\n",
    "assert df_test.shape[-1] == df_train.shape[-1] - 1\n",
    "print(df_test.isnull().sum())"
   ]
  },
  {
   "cell_type": "code",
   "execution_count": 5,
   "metadata": {},
   "outputs": [],
   "source": [
    "#adding features: mean encoding, lag features, "
   ]
  },
  {
   "cell_type": "markdown",
   "metadata": {},
   "source": [
    "# Training"
   ]
  },
  {
   "cell_type": "code",
   "execution_count": 58,
   "metadata": {
    "scrolled": false
   },
   "outputs": [
    {
     "name": "stdout",
     "output_type": "stream",
     "text": [
      "(1609124, 5) (1609124,)\n"
     ]
    }
   ],
   "source": [
    "X = df_train.drop('month_sum', axis=1).values\n",
    "\n",
    "y = df_train['month_sum'].values\n",
    "#y = y.reshape(len(y), 1)\n",
    "y = y.clip(0., 20.)\n",
    "\n",
    "print(X.shape, y.shape)\n",
    "\n",
    "from sklearn.model_selection import train_test_split\n",
    "X_train, X_val, y_train, y_val = train_test_split(X, y, train_size=0.8)\n"
   ]
  },
  {
   "cell_type": "code",
   "execution_count": 37,
   "metadata": {},
   "outputs": [
    {
     "name": "stdout",
     "output_type": "stream",
     "text": [
      "(1609124, 5) (1609124,) (0, 5) (0,)\n"
     ]
    }
   ],
   "source": [
    "\n",
    "val_tresh = 34\n",
    "\n",
    "X_train = df_train.loc[df_train['date_block_num'] < val_tresh].drop('month_sum', axis=1).values\n",
    "y_train = df_train.loc[df_train['date_block_num'] < val_tresh]['month_sum'].values\n",
    "\n",
    "\n",
    "X_val = df_train.loc[df_train['date_block_num'] == val_tresh].drop('month_sum', axis=1).values\n",
    "y_val = df_train.loc[df_train['date_block_num'] == val_tresh]['month_sum'].values\n",
    "\n",
    "y_train = y_train.clip(0., 20.)\n",
    "y_val = y_val.clip(0., 20.)\n",
    "\n",
    "print(X_train.shape, y_train.shape, X_val.shape, y_val.shape)"
   ]
  },
  {
   "cell_type": "code",
   "execution_count": null,
   "metadata": {
    "pycharm": {
     "name": "#%%\n"
    }
   },
   "outputs": [
    {
     "name": "stderr",
     "output_type": "stream",
     "text": [
      "[Parallel(n_jobs=-1)]: Using backend ThreadingBackend with 8 concurrent workers.\n",
      "[Parallel(n_jobs=-1)]: Done  34 tasks      | elapsed:   42.2s\n"
     ]
    }
   ],
   "source": [
    "#baseline: 1.41\n",
    "from sklearn.ensemble import RandomForestRegressor\n",
    "model_rf = RandomForestRegressor(n_jobs=-1, verbose=1, n_estimators=90, max_depth=15) #rs was 18\n",
    "model_rf.fit(X_train, y_train)"
   ]
  },
  {
   "cell_type": "code",
   "execution_count": 29,
   "metadata": {
    "pycharm": {
     "name": "#%%\n"
    },
    "scrolled": true
   },
   "outputs": [
    {
     "name": "stdout",
     "output_type": "stream",
     "text": [
      "[21:31:01] WARNING: src/objective/regression_obj.cu:152: reg:linear is now deprecated in favor of reg:squarederror.\n"
     ]
    },
    {
     "data": {
      "text/plain": [
       "XGBRegressor()"
      ]
     },
     "execution_count": 29,
     "metadata": {},
     "output_type": "execute_result"
    }
   ],
   "source": [
    "from xgboost import XGBRegressor\n",
    "\n",
    "xgb_model = XGBRegressor()\n",
    "xgb_model.fit(X_train, y_train.ravel(), verbose=1)"
   ]
  },
  {
   "cell_type": "markdown",
   "metadata": {},
   "source": [
    "# Validation"
   ]
  },
  {
   "cell_type": "code",
   "execution_count": 54,
   "metadata": {
    "pycharm": {
     "name": "#%%\n"
    },
    "scrolled": true
   },
   "outputs": [
    {
     "name": "stderr",
     "output_type": "stream",
     "text": [
      "[Parallel(n_jobs=8)]: Using backend ThreadingBackend with 8 concurrent workers.\n",
      "[Parallel(n_jobs=8)]: Done  34 tasks      | elapsed:    0.2s\n"
     ]
    },
    {
     "name": "stdout",
     "output_type": "stream",
     "text": [
      "validation RMSE: 2.1827752680734487\n"
     ]
    },
    {
     "name": "stderr",
     "output_type": "stream",
     "text": [
      "[Parallel(n_jobs=8)]: Done  90 out of  90 | elapsed:    0.4s finished\n"
     ]
    }
   ],
   "source": [
    "from sklearn.metrics import mean_squared_error\n",
    "\n",
    "y_preds = model_rf.predict(X_val)\n",
    "\n",
    "rmse = np.sqrt(mean_squared_error(y_val, y_preds))\n",
    "print(\"validation RMSE:\", rmse)"
   ]
  },
  {
   "cell_type": "code",
   "execution_count": 14,
   "metadata": {
    "pycharm": {
     "name": "#%% sliding windows\n"
    }
   },
   "outputs": [
    {
     "data": {
      "text/plain": [
       "'\\nk = df_train[\\'date_block_num\\'].nunique()\\nwin_size = X_train.shape[0] // k\\nrmses = []\\n\\nfor i in range(k - 1):\\n    X_train_part = X_train[(i + 1) * win_size:(i + 2) * win_size]\\n    y_train_part = y_train[(i + 1) * win_size:(i + 2) * win_size]\\n    X_val = X_train[i * win_size:(i + 1) * win_size]\\n    y_val = y_train[i * win_size:(i + 1) * win_size]\\n\\n    #model.fit(X_train_part, y_train_part.ravel())\\n    y_preds = model.predict(X_val)\\n    rmse = np.sqrt(mean_squared_error(y_val, y_preds))\\n    rmses.append(rmse)\\n\\nprint(rmses, \"\\navg rmse:\", sum(rmses) / len(rmses))\\n'"
      ]
     },
     "execution_count": 14,
     "metadata": {},
     "output_type": "execute_result"
    }
   ],
   "source": [
    "\"\"\"\n",
    "k = df_train['date_block_num'].nunique()\n",
    "win_size = X_train.shape[0] // k\n",
    "rmses = []\n",
    "\n",
    "for i in range(k - 1):\n",
    "    X_train_part = X_train[(i + 1) * win_size:(i + 2) * win_size]\n",
    "    y_train_part = y_train[(i + 1) * win_size:(i + 2) * win_size]\n",
    "    X_val = X_train[i * win_size:(i + 1) * win_size]\n",
    "    y_val = y_train[i * win_size:(i + 1) * win_size]\n",
    "\n",
    "    #model.fit(X_train_part, y_train_part.ravel())\n",
    "    y_preds = model.predict(X_val)\n",
    "    rmse = np.sqrt(mean_squared_error(y_val, y_preds))\n",
    "    rmses.append(rmse)\n",
    "\n",
    "print(rmses, \"\\navg rmse:\", sum(rmses) / len(rmses))\n",
    "\"\"\""
   ]
  },
  {
   "cell_type": "code",
   "execution_count": 52,
   "metadata": {
    "pycharm": {
     "name": "#%%\n"
    }
   },
   "outputs": [
    {
     "name": "stdout",
     "output_type": "stream",
     "text": [
      "(214200, 5)\n"
     ]
    },
    {
     "name": "stderr",
     "output_type": "stream",
     "text": [
      "[Parallel(n_jobs=8)]: Using backend ThreadingBackend with 8 concurrent workers.\n",
      "[Parallel(n_jobs=8)]: Done  34 tasks      | elapsed:    0.1s\n",
      "[Parallel(n_jobs=8)]: Done  90 out of  90 | elapsed:    0.1s finished\n"
     ]
    }
   ],
   "source": [
    "X_test = df_test.values\n",
    "print(X_test.shape)\n",
    "\n",
    "preds = model_rf.predict(X_test)"
   ]
  },
  {
   "cell_type": "code",
   "execution_count": 53,
   "metadata": {
    "pycharm": {
     "name": "#%%\n"
    }
   },
   "outputs": [
    {
     "name": "stdout",
     "output_type": "stream",
     "text": [
      "done\n"
     ]
    }
   ],
   "source": [
    "df_sub['item_cnt_month'] = np.round(preds)#round?\n",
    "df_sub.head()\n",
    "df_sub.to_csv(os.path.join(data_folder, 'sub_out2'), index=False)\n",
    "print(\"done\")"
   ]
  }
 ],
 "metadata": {
  "kernelspec": {
   "display_name": "Python 3",
   "language": "python",
   "name": "python3"
  },
  "language_info": {
   "codemirror_mode": {
    "name": "ipython",
    "version": 3
   },
   "file_extension": ".py",
   "mimetype": "text/x-python",
   "name": "python",
   "nbconvert_exporter": "python",
   "pygments_lexer": "ipython3",
   "version": "3.7.6"
  }
 },
 "nbformat": 4,
 "nbformat_minor": 1
}
